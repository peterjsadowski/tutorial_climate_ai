{
  "cells": [
    {
      "cell_type": "markdown",
      "metadata": {
        "id": "view-in-github",
        "colab_type": "text"
      },
      "source": [
        "<a href=\"https://colab.research.google.com/github/peterjsadowski/tutorial_climate_ai/blob/main/01_warmup_digits.ipynb\" target=\"_parent\"><img src=\"https://colab.research.google.com/assets/colab-badge.svg\" alt=\"Open In Colab\"/></a>"
      ]
    },
    {
      "cell_type": "markdown",
      "metadata": {
        "id": "IuiF_2Cy6XGg"
      },
      "source": [
        "# Warmup: Digit Classification\n",
        "\n",
        "Before we start looking at climate data, we will build a simple image classification model using the MNIST dataset. This dataset consists of 70,000 images of handwritten digits (0-9) that are 28x28 pixels. The goal is to train a model that can correctly classify the digits.\n",
        "\n",
        "\n"
      ]
    },
    {
      "cell_type": "markdown",
      "metadata": {
        "id": "x078L4OG6XGi"
      },
      "source": [
        "## Import libraries\n",
        "\n",
        "To start, import all the relevant libraries.\n",
        "\n"
      ]
    },
    {
      "cell_type": "code",
      "execution_count": 1,
      "metadata": {
        "id": "kRNxH9eY6XGj"
      },
      "outputs": [],
      "source": [
        "import numpy as np\n",
        "import matplotlib.pyplot as plt\n",
        "import torch\n",
        "import torch.nn as nn\n",
        "from torch.utils.data import DataLoader\n",
        "from torchvision import datasets\n",
        "from torchvision.transforms import ToTensor"
      ]
    },
    {
      "cell_type": "markdown",
      "metadata": {
        "id": "7QlzaNuW6XGk"
      },
      "source": [
        "## Select a device\n",
        "\n",
        "Before we start, we need to select a device to train the model on. If you are using Google Colab, you can use a GPU by selecting Runtime -> Change runtime type -> Hardware accelerator -> GPU. If you are using your own computer, you can use a GPU if you have one available. Otherwise, you can use the CPU.\n",
        "\n"
      ]
    },
    {
      "cell_type": "code",
      "execution_count": 2,
      "metadata": {
        "id": "j6_T80Jr6XGl",
        "colab": {
          "base_uri": "https://localhost:8080/"
        },
        "outputId": "622a305a-22d5-4259-c104-6ce288e3b47c"
      },
      "outputs": [
        {
          "output_type": "execute_result",
          "data": {
            "text/plain": [
              "device(type='cpu')"
            ]
          },
          "metadata": {},
          "execution_count": 2
        }
      ],
      "source": [
        "torch.device(\n",
        "    \"cuda\"\n",
        "    if torch.cuda.is_available()\n",
        "    else \"mps\"\n",
        "    if torch.backends.mps.is_available()\n",
        "    else \"cpu\"\n",
        ")"
      ]
    },
    {
      "cell_type": "markdown",
      "metadata": {
        "id": "MOmcoTLm6XGl"
      },
      "source": [
        "## Download the MNIST dataset\n",
        "\n",
        "As the MNIST dataset is a common dataset, it is already available in the torchvision package. We can download the data and preprocess it using the following code.\n",
        "\n"
      ]
    },
    {
      "cell_type": "code",
      "execution_count": 3,
      "metadata": {
        "id": "ScL7a4LO6XGl",
        "colab": {
          "base_uri": "https://localhost:8080/"
        },
        "outputId": "913631ad-7d63-4af2-c092-aa883d3063a7"
      },
      "outputs": [
        {
          "output_type": "stream",
          "name": "stderr",
          "text": [
            "100%|██████████| 9.91M/9.91M [00:00<00:00, 37.1MB/s]\n",
            "100%|██████████| 28.9k/28.9k [00:00<00:00, 1.14MB/s]\n",
            "100%|██████████| 1.65M/1.65M [00:00<00:00, 10.1MB/s]\n",
            "100%|██████████| 4.54k/4.54k [00:00<00:00, 3.70MB/s]\n"
          ]
        }
      ],
      "source": [
        "train_data = datasets.MNIST(\n",
        "    root=\"data\",\n",
        "    train=True,\n",
        "    download=True,\n",
        "    transform=ToTensor(),\n",
        ")\n",
        "\n",
        "test_data = datasets.MNIST(\n",
        "    root=\"data\",\n",
        "    train=False,\n",
        "    download=True,\n",
        "    transform=ToTensor(),\n",
        ")"
      ]
    },
    {
      "cell_type": "markdown",
      "source": [
        "Here we also split the data into training and test sets. The training set is used to train the model, while the test set is used to evaluate the model. Machine learning models perform well on the data they are trained on, but the real test is how well they perform on unseen data. This is known as cross-validation.\n",
        "\n"
      ],
      "metadata": {
        "id": "Zc93gU_Wt2Ld"
      }
    },
    {
      "cell_type": "code",
      "execution_count": 4,
      "metadata": {
        "id": "UKpfPfgU6XGm",
        "colab": {
          "base_uri": "https://localhost:8080/"
        },
        "outputId": "3fca2dc5-2fd6-4818-bc5d-32f2fe700888"
      },
      "outputs": [
        {
          "output_type": "stream",
          "name": "stdout",
          "text": [
            "Train data:\n",
            " Dataset MNIST\n",
            "    Number of datapoints: 60000\n",
            "    Root location: data\n",
            "    Split: Train\n",
            "    StandardTransform\n",
            "Transform: ToTensor()\n",
            "\n",
            "Test data:\n",
            " Dataset MNIST\n",
            "    Number of datapoints: 10000\n",
            "    Root location: data\n",
            "    Split: Test\n",
            "    StandardTransform\n",
            "Transform: ToTensor()\n"
          ]
        }
      ],
      "source": [
        "print(\"Train data:\\n\", train_data)\n",
        "print(\"\\nTest data:\\n\", test_data)"
      ]
    },
    {
      "cell_type": "markdown",
      "source": [
        "The MNIST dataset is already split into training and test sets, but in general we need to do this ourselves. It is important to split the data randomly, but also to make sure that the training and test sets are representative of the entire dataset. For example, if the dataset is 90% class A and 10% class B, then the training and test sets should also be 90% class A and 10% class B. We can plot some examples from the dataset to get a sense of what the data looks like."
      ],
      "metadata": {
        "id": "ZJZxk6LJt_sx"
      }
    },
    {
      "cell_type": "code",
      "execution_count": 5,
      "metadata": {
        "id": "a4qJ7H2V6XGm",
        "colab": {
          "base_uri": "https://localhost:8080/",
          "height": 675
        },
        "outputId": "362b1a10-adcb-4ccc-c43b-d7f126161ce6"
      },
      "outputs": [
        {
          "output_type": "display_data",
          "data": {
            "text/plain": [
              "<Figure size 800x800 with 16 Axes>"
            ],
            "image/png": "[encoded data removed]"
          },
          "metadata": {}
        }
      ],
      "source": [
        "figure = plt.figure(figsize=(8, 8))\n",
        "cols, rows = 4, 4\n",
        "for i in range(1, cols * rows + 1):\n",
        "    sample_idx = torch.randint(len(train_data), size=(1,)).item()\n",
        "    img, label = train_data[sample_idx]\n",
        "    figure.add_subplot(rows, cols, i)\n",
        "    plt.title(f\"Label: {label}\")\n",
        "    plt.axis(\"off\")\n",
        "    plt.imshow(img.squeeze(), cmap=\"gray\")\n",
        "plt.show()"
      ]
    },
    {
      "cell_type": "markdown",
      "metadata": {
        "id": "Zrqhgk5l6XGm"
      },
      "source": [
        "## Prepare the data for training\n",
        "\n",
        "We need to prepare the data for training. This involves creating a data loader that will feed the data into the model in batches. This is important because it is not feasible to load the entire dataset into memory at once. Instead, we load a small batch of data, perform a forward pass through the model, compute the loss, and then update the model parameters. This is known as stochastic gradient descent.\n",
        "\n"
      ]
    },
    {
      "cell_type": "code",
      "execution_count": 6,
      "metadata": {
        "id": "kdXhTDb96XGn"
      },
      "outputs": [],
      "source": [
        "train_dataloader = DataLoader(train_data, batch_size=64, shuffle=True)\n",
        "test_dataloader = DataLoader(test_data, batch_size=64, shuffle=True)"
      ]
    },
    {
      "cell_type": "markdown",
      "metadata": {
        "id": "rBIsA2QZ6XGn"
      },
      "source": [
        "## Define the model\n",
        "\n",
        "For this particular problem, we will use a convolutional neural network (CNN). CNNs are a type of neural network that are particularly adept at processing image data. They are composed of a series of convolutional layers, which are layers that apply a filter to the input image. The filters can be thought of as small windows that slide across the image and extract features.\n",
        "\n",
        "In Pytorch, we can define a CNN model by creating a class that inherits from the `nn.Module` class. We then define the layers of the model in the `__init__` method, and define the forward pass in the `forward` method. The `forward` method takes in an input tensor and returns an output tensor.\n",
        "\n"
      ]
    },
    {
      "cell_type": "code",
      "execution_count": 7,
      "metadata": {
        "id": "dLyqtuXl6XGn"
      },
      "outputs": [],
      "source": [
        "class CNN(nn.Module):\n",
        "    def __init__(self):\n",
        "        super().__init__()\n",
        "        self.conv1 = nn.Conv2d(in_channels=1, out_channels=8, kernel_size=3)\n",
        "        self.pool = nn.MaxPool2d(kernel_size=2)\n",
        "        self.conv2 = nn.Conv2d(in_channels=8, out_channels=16, kernel_size=3)\n",
        "        self.fc1 = nn.Linear(in_features=16 * 5 * 5, out_features=128)\n",
        "        self.fc2 = nn.Linear(in_features=128, out_features=10)\n",
        "\n",
        "    def forward(self, x):\n",
        "        x = self.pool(torch.relu(self.conv1(x)))\n",
        "        x = self.pool(torch.relu(self.conv2(x)))\n",
        "        x = torch.flatten(x, 1)\n",
        "        x = torch.relu(self.fc1(x))\n",
        "        x = self.fc2(x)\n",
        "        return x"
      ]
    },
    {
      "cell_type": "markdown",
      "source": [
        "The model can be used by assigning it to a variable and calling it like a function.\n"
      ],
      "metadata": {
        "id": "Sd555fxcujln"
      }
    },
    {
      "cell_type": "code",
      "execution_count": 8,
      "metadata": {
        "id": "Pv_36YAi6XGn",
        "colab": {
          "base_uri": "https://localhost:8080/"
        },
        "outputId": "92fb22b7-5598-4ef0-b196-b85f22f522ba"
      },
      "outputs": [
        {
          "output_type": "stream",
          "name": "stdout",
          "text": [
            "CNN(\n",
            "  (conv1): Conv2d(1, 8, kernel_size=(3, 3), stride=(1, 1))\n",
            "  (pool): MaxPool2d(kernel_size=2, stride=2, padding=0, dilation=1, ceil_mode=False)\n",
            "  (conv2): Conv2d(8, 16, kernel_size=(3, 3), stride=(1, 1))\n",
            "  (fc1): Linear(in_features=400, out_features=128, bias=True)\n",
            "  (fc2): Linear(in_features=128, out_features=10, bias=True)\n",
            ")\n"
          ]
        }
      ],
      "source": [
        "model = CNN()\n",
        "print(model)"
      ]
    },
    {
      "cell_type": "markdown",
      "metadata": {
        "id": "AsDncYks6XGn"
      },
      "source": [
        "## Train the model\n",
        "\n",
        "Now we are ready to train the model. We first define the loss function and the optimizer. The loss function is a measure of how well the model is performing. The optimizer is the algorithm that will update the model parameters to minimize the loss function. Here we use the cross entropy loss function and the Adam optimizer.\n",
        "\n"
      ]
    },
    {
      "cell_type": "code",
      "execution_count": 9,
      "metadata": {
        "id": "edIWrVRc6XGn"
      },
      "outputs": [],
      "source": [
        "loss_fn = nn.CrossEntropyLoss()\n",
        "optimizer = torch.optim.Adam(model.parameters(), lr=0.001)"
      ]
    },
    {
      "cell_type": "markdown",
      "source": [
        "We then define the training loop. This is where we iterate through the training examples, make predictions, and update the model parameters. We keep track of the average loss over the training set, and report it every time we iterate through the training dataset — each iteration through the training set is called an **epoch**.\n",
        "\n"
      ],
      "metadata": {
        "id": "faPuqJ9XuoxV"
      }
    },
    {
      "cell_type": "code",
      "execution_count": 10,
      "metadata": {
        "id": "YtWxT4DD6XGo",
        "colab": {
          "base_uri": "https://localhost:8080/"
        },
        "outputId": "a56f1054-eb99-4f80-ec51-1e96ea2e85f8"
      },
      "outputs": [
        {
          "output_type": "stream",
          "name": "stdout",
          "text": [
            "Epoch: 0, Batch: 0, Loss: 2.3044819831848145\n",
            "Epoch: 0, Batch: 400, Loss: 0.13680586218833923\n",
            "Epoch: 0, Batch: 800, Loss: 0.03400668874382973\n",
            "Epoch: 1, Batch: 0, Loss: 0.08120855689048767\n",
            "Epoch: 1, Batch: 400, Loss: 0.06176663562655449\n",
            "Epoch: 1, Batch: 800, Loss: 0.17648157477378845\n",
            "Epoch: 2, Batch: 0, Loss: 0.12767624855041504\n",
            "Epoch: 2, Batch: 400, Loss: 0.09352590143680573\n",
            "Epoch: 2, Batch: 800, Loss: 0.06914792954921722\n",
            "Epoch: 3, Batch: 0, Loss: 0.046865325421094894\n",
            "Epoch: 3, Batch: 400, Loss: 0.004199458751827478\n",
            "Epoch: 3, Batch: 800, Loss: 0.0638388991355896\n",
            "Epoch: 4, Batch: 0, Loss: 0.007981343194842339\n",
            "Epoch: 4, Batch: 400, Loss: 0.003867829218506813\n",
            "Epoch: 4, Batch: 800, Loss: 0.017100708559155464\n",
            "Epoch: 5, Batch: 0, Loss: 0.005670569371432066\n",
            "Epoch: 5, Batch: 400, Loss: 0.0518307201564312\n",
            "Epoch: 5, Batch: 800, Loss: 0.030179789289832115\n",
            "Epoch: 6, Batch: 0, Loss: 0.012595139443874359\n",
            "Epoch: 6, Batch: 400, Loss: 0.04176996275782585\n",
            "Epoch: 6, Batch: 800, Loss: 0.04673063009977341\n",
            "Epoch: 7, Batch: 0, Loss: 0.0340530090034008\n",
            "Epoch: 7, Batch: 400, Loss: 0.002747895661741495\n",
            "Epoch: 7, Batch: 800, Loss: 0.08311229944229126\n",
            "Epoch: 8, Batch: 0, Loss: 0.005513118579983711\n",
            "Epoch: 8, Batch: 400, Loss: 0.11208273470401764\n",
            "Epoch: 8, Batch: 800, Loss: 0.014979821629822254\n",
            "Epoch: 9, Batch: 0, Loss: 0.009806397370994091\n",
            "Epoch: 9, Batch: 400, Loss: 0.005567779764533043\n",
            "Epoch: 9, Batch: 800, Loss: 0.0034008524380624294\n"
          ]
        }
      ],
      "source": [
        "# train\n",
        "epochs = 10\n",
        "train_loss = []\n",
        "\n",
        "for epoch in range(epochs):\n",
        "    epoch_loss = []\n",
        "\n",
        "    # set the model in training phase\n",
        "    model.train()\n",
        "\n",
        "    for batch_idx, (data, target) in enumerate(train_dataloader):\n",
        "        # zero the parameter gradients\n",
        "        # this is because the gradients are accumulated\n",
        "        # so we need to zero them out at each iteration\n",
        "        optimizer.zero_grad()\n",
        "\n",
        "        # forward + backward + optimize\n",
        "        output = model(data)\n",
        "        loss = loss_fn(output, target)\n",
        "\n",
        "        # we save the epoch loss to plot it later\n",
        "        # it is multiplied by the batch size to account for the fact that\n",
        "        # the loss is averaged over the batch\n",
        "        epoch_loss.append(loss.item() * data.size(0))\n",
        "\n",
        "        loss.backward()\n",
        "        optimizer.step()\n",
        "\n",
        "        # print statistics\n",
        "        if batch_idx % 400 == 0:\n",
        "            print(f\"Epoch: {epoch}, Batch: {batch_idx}, Loss: {loss.item()}\")\n",
        "    train_loss.append(sum(epoch_loss) / len(train_data))"
      ]
    },
    {
      "cell_type": "markdown",
      "source": [
        "Training a neural network is notoriously difficult. The problem is that we are performing stochastic gradient descent optimization on a very non-convex function. You should look to see that the loss function decreases during the first few epochs, indicating that the model is improving. If it doesn’t, try decreasing the learning rate. If that doesn’t help, then you have a bug or the model is not appropriate for your problem.\n",
        "\n",
        "It is hard to know when to stop training, because even when the model seems to have converged, it might suddenly have “a revelation” that allows it to explain the training data perfectly. To build your intuition, we highly recommend playing with the toy neural networks in [Tensorflow Playground](https://playground.tensorflow.org/#activation=tanh&batchSize=10&dataset=circle&regDataset=reg-plane&learningRate=0.03&regularizationRate=0&noise=0&networkShape=4,2&seed=0.64984&showTestData=false&discretize=false&percTrainData=50&x=true&y=true&xTimesY=false&xSquared=false&ySquared=false&cosX=false&sinX=false&cosY=false&sinY=false&collectStats=false&problem=classification&initZero=false&hideText=false).\n",
        "\n",
        "In practice, we train until we run out of patience or when we start overfitting to a held out test set (known as early stopping).\n",
        "\n",
        "It is useful to plot the training loss to see how the model is improving."
      ],
      "metadata": {
        "id": "f9Sbh-2muvK2"
      }
    },
    {
      "cell_type": "code",
      "execution_count": 11,
      "metadata": {
        "id": "V3T7Ynz36XGo",
        "colab": {
          "base_uri": "https://localhost:8080/",
          "height": 472
        },
        "outputId": "07574a99-7388-4cbb-dc8f-bc669d9491de"
      },
      "outputs": [
        {
          "output_type": "display_data",
          "data": {
            "text/plain": [
              "<Figure size 640x480 with 1 Axes>"
            ],
            "image/png": "[encoded data removed]"
          },
          "metadata": {}
        }
      ],
      "source": [
        "plt.plot(train_loss)\n",
        "plt.title(\"Training Loss\")\n",
        "plt.xlabel(\"Epoch\")\n",
        "plt.ylabel(\"Loss\")\n",
        "plt.show()"
      ]
    },
    {
      "cell_type": "markdown",
      "metadata": {
        "id": "Vi_8O_rk6XGo"
      },
      "source": [
        "## Evaluate the model\n",
        "\n",
        "To evaluate the model, it is very important to use set of data that was not used for training. This is because the model tends to memorize the training set examples and achieve 100% accuracy on the training set if we train long enough.\n",
        "\n",
        "We set the model to evaluation mode, then iterate through the test set and make predictions. We then compare the predictions to the ground truth labels and compute the accuracy.\n"
      ]
    },
    {
      "cell_type": "code",
      "execution_count": 36,
      "metadata": {
        "id": "ur5H3j7Q6XGo",
        "colab": {
          "base_uri": "https://localhost:8080/"
        },
        "outputId": "640a8d45-3ad8-46d1-b3e1-e9f8323fc563"
      },
      "outputs": [
        {
          "output_type": "stream",
          "name": "stdout",
          "text": [
            "Test Accuracy: 98.83%\n",
            "Test Loss: 2.4099559332288587\n"
          ]
        }
      ],
      "source": [
        "# set model to evaluation mode\n",
        "model.eval()\n",
        "\n",
        "# variables to keep track of accuracy\n",
        "all_predictions = []\n",
        "all_targets = []\n",
        "all_data = []\n",
        "test_loss = []\n",
        "\n",
        "\n",
        "# we don't need to compute gradients for the test set\n",
        "with torch.no_grad():\n",
        "    for data, target in test_dataloader:\n",
        "        output = model(data)\n",
        "\n",
        "        # The loss is the cross-entropy loss, based on probabilistic predictions.\n",
        "        loss = loss_fn(output, target)\n",
        "        test_loss.append(loss.item() * data.size(0))\n",
        "\n",
        "        # Make hard prediction to compute accuracy metric.\n",
        "        _, predicted = torch.max(output.data, 1)\n",
        "        all_predictions.extend(predicted.cpu().numpy())\n",
        "        all_targets.extend(target.cpu().numpy())\n",
        "        all_data.extend(data.cpu().numpy())\n",
        "\n",
        "all_predictions = np.array(all_predictions)\n",
        "all_targets = np.array(all_targets)\n",
        "accuracy = 100 * sum(all_predictions == all_targets) / len(all_targets)\n",
        "\n",
        "print(f\"Test Accuracy: {accuracy}%\")\n",
        "print(f\"Test Loss: {np.mean(test_loss)}\")"
      ]
    },
    {
      "cell_type": "markdown",
      "source": [
        "It's also good to visualize some of the predictions to get a sense of how well the model is performing after training. Visualizing the errors is almost always a good idea."
      ],
      "metadata": {
        "id": "thDcWc84yj_U"
      }
    },
    {
      "cell_type": "code",
      "execution_count": 38,
      "metadata": {
        "id": "_6o6i6Bq6XGo",
        "colab": {
          "base_uri": "https://localhost:8080/",
          "height": 717
        },
        "outputId": "7f2d51f6-a560-4452-f432-6e806cfd4cd7"
      },
      "outputs": [
        {
          "output_type": "display_data",
          "data": {
            "text/plain": [
              "<Figure size 1000x400 with 8 Axes>"
            ],
            "image/png": "[encoded data removed]"
          },
          "metadata": {}
        },
        {
          "output_type": "display_data",
          "data": {
            "text/plain": [
              "<Figure size 1000x400 with 8 Axes>"
            ],
            "image/png": "[encoded data removed]"
          },
          "metadata": {}
        }
      ],
      "source": [
        "# Get indices of correct and incorrect examples\n",
        "correct_indices   = np.nonzero(all_predictions == all_targets)[0]\n",
        "incorrect_indices = np.nonzero(all_predictions != all_targets)[0]\n",
        "\n",
        "# Plot some correctly labeled examples.\n",
        "plt.figure(1, figsize=(10,4))\n",
        "for i, correct in enumerate(correct_indices[:8]):\n",
        "    plt.subplot(2,4,i+1)\n",
        "    plt.imshow(all_data[correct].reshape(28,28), cmap='gray', interpolation='none')\n",
        "    plt.title(\"Predicted {}, Class {}\".format(all_predictions[correct], all_targets[correct]))\n",
        "    plt.xticks([])\n",
        "    plt.yticks([])\n",
        "\n",
        "# Plot some incorrectly labeled examples.\n",
        "plt.figure(2, figsize=(10,4))\n",
        "for i, incorrect in enumerate(incorrect_indices[:8]):\n",
        "    plt.subplot(2,4,i+1)\n",
        "    plt.imshow(all_data[incorrect].reshape(28,28), cmap='gray', interpolation='none')\n",
        "    plt.title(\"Predicted {}, Class {}\".format(all_predictions[incorrect], all_targets[incorrect]))\n",
        "    plt.xticks([])\n",
        "    plt.yticks([])\n"
      ]
    }
  ],
  "metadata": {
    "kernelspec": {
      "display_name": "pangeo",
      "language": "python",
      "name": "python3"
    },
    "language_info": {
      "codemirror_mode": {
        "name": "ipython",
        "version": 3
      },
      "file_extension": ".py",
      "mimetype": "text/x-python",
      "name": "python",
      "nbconvert_exporter": "python",
      "pygments_lexer": "ipython3",
      "version": "3.11.4"
    },
    "colab": {
      "provenance": [],
      "include_colab_link": true
    }
  },
  "nbformat": 4,
  "nbformat_minor": 0
}
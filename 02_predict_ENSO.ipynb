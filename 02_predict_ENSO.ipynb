{
  "cells": [
    {
      "cell_type": "markdown",
      "metadata": {
        "id": "zL3Ldy7A6Ycl"
      },
      "source": [
        "# ENSO Phase Prediction\n",
        "\n",
        "The El Niño Southern Oscillation (ENSO) is a climate phenomenon that occurs in the Pacific ocean. It is characterized by a periodic warming and cooling of the sea surface temperature. The ENSO phase can be classified into three categories: El Niño, La Niña, and Neutral. This event has a significant impact on weather patterns around the world, and is of great interest to climate scientists.\n",
        "\n",
        "### Sea Surface Temperature Data: NOAA Extended Reconstructed Sea Surface Temperature (ERSST) v5\n",
        "\n",
        "The NOAA Extended Reconstructed Sea Surface Temperature (ERSST) v5 dataset is a global monthly sea surface temperature dataset. It is a blend of in situ and satellite data that begins in 1854 and is updated monthly. The data is available in netCDF format from the NOAA website.\n",
        "\n",
        "A subset of the data has already been prepared for this workshop. In particular, we will focus our attention on a region in the Pacific ocean (40S-40N, 120E-100W) from 1854-2023. More specifically, we will use the sea surface temperature anomaly (SSTA) data, which is the difference between the sea surface temperature and the long-term average. This data is stored in a 3D array (time, lat, lon) in netCDF format, which is a common format for climate data.\n",
        "\n",
        "NetCDF is a common data format for climate data. It is a self-describing format that is optimized for storing large arrays. It is supported by most programming languages and has a number of useful tools for working with the data. See the NetCDF website for more information."
      ]
    },
    {
      "cell_type": "markdown",
      "metadata": {
        "colab_type": "text",
        "id": "view-in-github"
      },
      "source": [
        "<a href=\"https://colab.research.google.com/github/peterjsadowski/tutorial_climate_ai/blob/main/02_predict_ENSO.ipynb\" target=\"_parent\"><img src=\"https://colab.research.google.com/assets/colab-badge.svg\" alt=\"Open In Colab\"/></a>"
      ]
    },
    {
      "cell_type": "markdown",
      "metadata": {
        "id": "_qS74CLw6Ycn"
      },
      "source": [
        "## Import Libraries\n",
        "\n",
        "To start, import all the relevant libraries. If these libraries are not installed, run `!pip install torch xarray urllib matplotlib` from a new cell."
      ]
    },
    {
      "cell_type": "code",
      "execution_count": 23,
      "metadata": {
        "id": "EImUVsNx6Ycn"
      },
      "outputs": [],
      "source": [
        "import matplotlib.pyplot as plt\n",
        "import pandas as pd\n",
        "import os\n",
        "import urllib\n",
        "import torch\n",
        "import torch.nn as nn\n",
        "import xarray as xr\n",
        "from torch.utils.data import DataLoader"
      ]
    },
    {
      "cell_type": "markdown",
      "metadata": {},
      "source": [
        "First we select a device to train the model on. If you are using Google Colab, you can use a GPU by selecting Runtime -> Change runtime type -> Hardware accelerator -> GPU. If you are using your own computer, you can use a GPU if you have one available. Otherwise, you can use the CPU."
      ]
    },
    {
      "cell_type": "code",
      "execution_count": 24,
      "metadata": {
        "id": "Hkq_L8L-6Yco"
      },
      "outputs": [
        {
          "data": {
            "text/plain": [
              "device(type='cpu')"
            ]
          },
          "execution_count": 24,
          "metadata": {},
          "output_type": "execute_result"
        }
      ],
      "source": [
        "torch.device(\n",
        "    \"cuda\"\n",
        "    if torch.cuda.is_available()\n",
        "    else \"mps\"\n",
        "    if torch.backends.mps.is_available()\n",
        "    else \"cpu\"\n",
        ")"
      ]
    },
    {
      "cell_type": "markdown",
      "metadata": {
        "id": "v23fffGu6Ycp"
      },
      "source": [
        "## Download and Preprocess Data\n",
        "\n",
        "Download the data to the local environment\n",
        "\n"
      ]
    },
    {
      "cell_type": "code",
      "execution_count": 25,
      "metadata": {},
      "outputs": [
        {
          "name": "stdout",
          "output_type": "stream",
          "text": [
            "Directory 'data' already exists.\n",
            "File data/ersst_pacific_anom.nc already exists.\n",
            "File data/labels.csv already exists.\n",
            "File data/ersst_anom_dec2023.nc already exists.\n"
          ]
        }
      ],
      "source": [
        "# Create data dir.\n",
        "directory_path = \"data\"\n",
        "if not os.path.exists(directory_path):\n",
        "    os.makedirs(directory_path)\n",
        "    print(f\"Directory '{directory_path}' created.\")\n",
        "else:\n",
        "    print(f\"Directory '{directory_path}' already exists.\")\n",
        "\n",
        "# Download data files from github repo\n",
        "def download(url):\n",
        "    filename = os.path.join(directory_path, url.split('/')[-1])\n",
        "    if os.path.exists(filename):\n",
        "        print(f'File {filename} already exists.')\n",
        "    else:\n",
        "        # Try to download\n",
        "        try:\n",
        "            urllib.request.urlretrieve(url, filename)\n",
        "            print(f'File {filename} downloaded.')\n",
        "        except Exception as e:\n",
        "            print(f'Error downloading file {filename}: {e}')\n",
        "\n",
        "\n",
        "urls = ['https://github.com/peterjsadowski/tutorial_climate_ai/data/ersst_pacific_anom.nc',\n",
        "        'https://github.com/peterjsadowski/tutorial_climate_ai/data/labels.csv',\n",
        "        'https://github.com/peterjsadowski/tutorial_climate_ai/data/ersst_anom_dec2023.nc'\n",
        "]\n",
        "for url in urls:\n",
        "    download(url)\n",
        "\n"
      ]
    },
    {
      "cell_type": "markdown",
      "metadata": {},
      "source": [
        "Load the data into an xarray dataset using the xr.open_dataset function and select the variable ssta (sea surface temperature anomaly). The data is a 3D array (time, lat, lon) with missing values. We will fill in the missing values with zeros."
      ]
    },
    {
      "cell_type": "code",
      "execution_count": 26,
      "metadata": {
        "id": "w1jZTtPN6Ycp"
      },
      "outputs": [],
      "source": [
        "netcdf_file = xr.open_dataset(\"data/ersst_pacific_anom.nc\")\n",
        "ssta = (\n",
        "    netcdf_file.ssta.expand_dims(\"channel\")\n",
        "    .transpose(\"time\", \"channel\", \"lat\", \"lon\")\n",
        "    .fillna(0)\n",
        ")"
      ]
    },
    {
      "cell_type": "markdown",
      "metadata": {},
      "source": [
        "We will now load the labels for the ENSO phase which has been prepared for this workshop and can be downloaded from this link. The labels are stored in a pandas dataframe with 4 columns: date, lead_1, lead_2, lead_3. The date column is the date of the observation, while the lead columns are the ENSO phase 1, 2, and 3 months in the future. The ENSO phase has been converted to a categorical variable with 3 classes: 0 (Neutral), 1 (El Niño), and 2 (La Niña).\n",
        "\n"
      ]
    },
    {
      "cell_type": "code",
      "execution_count": 27,
      "metadata": {
        "id": "MPDdI-zX6Ycs"
      },
      "outputs": [],
      "source": [
        "labels_df = pd.read_csv(\"data/labels.csv\")\n",
        "one_hot_labels = nn.functional.one_hot(\n",
        "    torch.from_numpy(labels_df[[\"lead_1\", \"lead_2\", \"lead_3\"]].values).long(),\n",
        "    num_classes=3,\n",
        ").float()"
      ]
    },
    {
      "cell_type": "markdown",
      "metadata": {},
      "source": [
        "One hot encoding is a method for converting categorical variables into numerical variables. For example, if we have a variable that can take on the values “red”, “green”, and “blue”, we can convert this into a numerical variable by assigning each category a number: 0, 1, and 2. However, this implies that “red” is closer to “green” than it is to “blue”, which is not true. One hot encoding solves this problem by creating a new variable for each category. In this case, we would have three variables: red, green, and blue. If the original variable was “red”, then the red variable would be 1 and the green and blue variables would be 0. If the original variable was “blue”, then the blue variable would be 1 and the red and green variables would be 0. This is a more appropriate representation of the data.\n",
        "\n",
        "```\n",
        "color\tRed\tGreen\tBlue\n",
        "Red\t1\t0\t0\n",
        "Green\t0\t1\t0\n",
        "Blue\t0\t0\t1\n",
        "```"
      ]
    },
    {
      "cell_type": "markdown",
      "metadata": {
        "id": "4tiKsF4B6Ycs"
      },
      "source": [
        "## Define the Training Set\n",
        "\n",
        "Now that we have the data loaded, we need to prepare it in a format that Pytorch can use. We will define a dataset class that will take in the data and labels and return a single example. We will then use the Pytorch DataLoader class to create a data loader that will feed the data into the model in batches.\n",
        "\n",
        "In machine learning, it is critical to split the data into **training** and **test sets**. The training set is used to train the model, while the test set is used to evaluate the model. Machine learning models tend to memorize the training data, so the training error always goes to zero — the only way to know if the model **generalizes** to new data is by evaluating the performance on the test set, a method known as **cross-validation**.\n",
        "\n",
        "In timeseries data, there is a danger of **information leakage** where the training set is highly correlated to the test set (even if the exact examples are different). Thus, it is common use **chrono-cross-validation**, where the training data consists of examples before a certain time T, while the test set consists of examples after time T."
      ]
    },
    {
      "cell_type": "code",
      "execution_count": 28,
      "metadata": {
        "id": "elqfisDV6Yct"
      },
      "outputs": [],
      "source": [
        "# now we have to create a dataset that can be used by pytorch\n",
        "\n",
        "class ENSODataset(torch.utils.data.Dataset):\n",
        "    def __init__(self, ssta, labels):\n",
        "        self.ssta = ssta\n",
        "        self.labels = labels\n",
        "\n",
        "    def __len__(self):\n",
        "        return len(self.ssta)\n",
        "\n",
        "    def __getitem__(self, idx):\n",
        "        return self.ssta[idx], self.labels[idx]\n",
        "\n",
        "\n",
        "# we will use the first 80% of the data for training and the last 20% for testing\n",
        "train_size = int(0.8 * len(ssta))\n",
        "\n",
        "train_dataset = ENSODataset(ssta[:train_size].data.copy(), one_hot_labels[:train_size])\n",
        "test_dataset = ENSODataset(ssta[train_size:].data.copy(), one_hot_labels[train_size:])"
      ]
    },
    {
      "cell_type": "markdown",
      "metadata": {},
      "source": [
        "We will use a batch size of 32 and shuffle the training data.\n"
      ]
    },
    {
      "cell_type": "code",
      "execution_count": 29,
      "metadata": {
        "id": "VzA0r-0E6Yct"
      },
      "outputs": [],
      "source": [
        "# Build the dataloaders\n",
        "train_dataloader = DataLoader(train_dataset, batch_size=32, shuffle=True)\n",
        "test_dataloader = DataLoader(test_dataset, batch_size=32)"
      ]
    },
    {
      "cell_type": "markdown",
      "metadata": {
        "id": "uv5iK3P86Yct"
      },
      "source": [
        "## Defining the Model\n",
        "\n",
        "Similar to the MNIST example, we will use a convolutional neural network (CNN) model as we are working with image data. As we want to predict the next 3 months of ENSO phase, we will have 3 output nodes (one for each lead time) each with 3 possible values (one for each ENSO phase). We will use the cross entropy loss function and the Adam optimizer.\n",
        "\n"
      ]
    },
    {
      "cell_type": "code",
      "execution_count": 30,
      "metadata": {
        "id": "SQrMVnTn6Yct"
      },
      "outputs": [],
      "source": [
        "class ENSOModel(nn.Module):\n",
        "    def __init__(self):\n",
        "        super().__init__()\n",
        "        self.conv1 = nn.Conv2d(1, 6, 3)\n",
        "        self.pool = nn.MaxPool2d(2, 2)\n",
        "        self.conv2 = nn.Conv2d(6, 16, 3)\n",
        "        self.fc1 = nn.Linear(16 * 8 * 20, 120)\n",
        "        self.fc2 = nn.Linear(120, 84)\n",
        "        self.fc3 = nn.Linear(84, 3)\n",
        "\n",
        "    def forward(self, x):\n",
        "        x = self.pool(torch.relu(self.conv1(x)))\n",
        "        x = self.pool(torch.relu(self.conv2(x)))\n",
        "        x = torch.flatten(x, 1)  # flatten all dimensions except batch\n",
        "        x = torch.relu(self.fc1(x))\n",
        "        x = torch.relu(self.fc2(x))\n",
        "\n",
        "        x_lead_1 = self.fc3(x)\n",
        "        x_lead_2 = self.fc3(x)\n",
        "        x_lead_3 = self.fc3(x)\n",
        "\n",
        "        return x_lead_1, x_lead_2, x_lead_3"
      ]
    },
    {
      "cell_type": "markdown",
      "metadata": {},
      "source": [
        "Note on designing a neural network architecture:\n",
        "\n",
        "The neural network architecture can have a large impact on performance. The inductive bias of a model refers to the set of assumptions and prior beliefs that are inherent in this choice. All machine learning models have inductive bias. This is not a bad thing, but it means some models are more appropriate for some problems than others. This is formalized in what is known as The No Free Lunch Theorem.\n",
        "\n",
        "Experienced practicioners know which architectures tend to work best for certain types of problems. Bigger models usually work better, but are slower because of computational constraints. In practice, it is common to try lots of different models and perform model selection to pick the best based on how well the model performs on a test set.\n"
      ]
    },
    {
      "cell_type": "markdown",
      "metadata": {
        "id": "I3yMRUy_6Yct"
      },
      "source": [
        "## Training the Model\n",
        "\n",
        "Training the model is an iterative process. Starting from randomly initialized parameters, we iterate through the training examples, make predictions, and update the weight parameters to minimize the **loss function**. In this case, we use the cross entropy loss. We keep track of the average loss over the training set, and report it every time we iterate through the training dataset — each iteration through the training set is called an **epoch**.\n",
        "\n",
        "We can now write the training loop.\n"
      ]
    },
    {
      "cell_type": "code",
      "execution_count": 31,
      "metadata": {
        "id": "xiwkeVS06Yct"
      },
      "outputs": [
        {
          "name": "stdout",
          "output_type": "stream",
          "text": [
            "Epoch: 0, Batch: 0, Loss: 3.436413288116455\n",
            "Epoch: 1, Batch: 0, Loss: 2.8708901405334473\n",
            "Epoch: 2, Batch: 0, Loss: 2.4984560012817383\n",
            "Epoch: 3, Batch: 0, Loss: 2.06510066986084\n",
            "Epoch: 4, Batch: 0, Loss: 1.659157156944275\n",
            "Epoch: 5, Batch: 0, Loss: 1.542259931564331\n",
            "Epoch: 6, Batch: 0, Loss: 1.6178257465362549\n",
            "Epoch: 7, Batch: 0, Loss: 1.0360450744628906\n",
            "Epoch: 8, Batch: 0, Loss: 0.7862735390663147\n",
            "Epoch: 9, Batch: 0, Loss: 0.9208210706710815\n",
            "Epoch: 10, Batch: 0, Loss: 0.9365091323852539\n",
            "Epoch: 11, Batch: 0, Loss: 1.561532974243164\n",
            "Epoch: 12, Batch: 0, Loss: 1.4075396060943604\n",
            "Epoch: 13, Batch: 0, Loss: 1.0125154256820679\n",
            "Epoch: 14, Batch: 0, Loss: 1.2329199314117432\n",
            "Epoch: 15, Batch: 0, Loss: 1.16660475730896\n",
            "Epoch: 16, Batch: 0, Loss: 1.3207920789718628\n",
            "Epoch: 17, Batch: 0, Loss: 0.7295293807983398\n",
            "Epoch: 18, Batch: 0, Loss: 0.9330609440803528\n",
            "Epoch: 19, Batch: 0, Loss: 1.4028797149658203\n",
            "Epoch: 20, Batch: 0, Loss: 1.2060823440551758\n",
            "Epoch: 21, Batch: 0, Loss: 0.9006491899490356\n",
            "Epoch: 22, Batch: 0, Loss: 1.0715742111206055\n",
            "Epoch: 23, Batch: 0, Loss: 0.7257802486419678\n",
            "Epoch: 24, Batch: 0, Loss: 0.9999973773956299\n",
            "Epoch: 25, Batch: 0, Loss: 0.8211773037910461\n",
            "Epoch: 26, Batch: 0, Loss: 0.5529252290725708\n",
            "Epoch: 27, Batch: 0, Loss: 1.2203681468963623\n",
            "Epoch: 28, Batch: 0, Loss: 1.0716524124145508\n",
            "Epoch: 29, Batch: 0, Loss: 0.5409102439880371\n",
            "Epoch: 30, Batch: 0, Loss: 0.5591995716094971\n",
            "Epoch: 31, Batch: 0, Loss: 0.3584684729576111\n",
            "Epoch: 32, Batch: 0, Loss: 0.8263548612594604\n",
            "Epoch: 33, Batch: 0, Loss: 0.2848901152610779\n",
            "Epoch: 34, Batch: 0, Loss: 0.6272411346435547\n",
            "Epoch: 35, Batch: 0, Loss: 0.205223947763443\n",
            "Epoch: 36, Batch: 0, Loss: 0.8413583040237427\n",
            "Epoch: 37, Batch: 0, Loss: 0.5141119360923767\n",
            "Epoch: 38, Batch: 0, Loss: 0.5428270101547241\n",
            "Epoch: 39, Batch: 0, Loss: 0.8071662187576294\n",
            "Epoch: 40, Batch: 0, Loss: 0.5836210250854492\n",
            "Epoch: 41, Batch: 0, Loss: 0.25002145767211914\n",
            "Epoch: 42, Batch: 0, Loss: 0.6932443380355835\n",
            "Epoch: 43, Batch: 0, Loss: 0.41886597871780396\n",
            "Epoch: 44, Batch: 0, Loss: 0.6214271187782288\n",
            "Epoch: 45, Batch: 0, Loss: 0.44515153765678406\n",
            "Epoch: 46, Batch: 0, Loss: 0.4311021864414215\n",
            "Epoch: 47, Batch: 0, Loss: 0.5690457820892334\n",
            "Epoch: 48, Batch: 0, Loss: 0.23441925644874573\n",
            "Epoch: 49, Batch: 0, Loss: 0.37315356731414795\n",
            "Epoch: 50, Batch: 0, Loss: 0.6312556266784668\n",
            "Epoch: 51, Batch: 0, Loss: 0.44417640566825867\n",
            "Epoch: 52, Batch: 0, Loss: 0.36567264795303345\n",
            "Epoch: 53, Batch: 0, Loss: 0.16677355766296387\n",
            "Epoch: 54, Batch: 0, Loss: 0.4428247809410095\n",
            "Epoch: 55, Batch: 0, Loss: 0.17422786355018616\n",
            "Epoch: 56, Batch: 0, Loss: 0.6183527708053589\n",
            "Epoch: 57, Batch: 0, Loss: 0.10398100316524506\n",
            "Epoch: 58, Batch: 0, Loss: 0.10988569259643555\n",
            "Epoch: 59, Batch: 0, Loss: 0.33361804485321045\n"
          ]
        }
      ],
      "source": [
        "model = ENSOModel()\n",
        "\n",
        "# define the loss function and optimizer\n",
        "loss_fn = nn.CrossEntropyLoss()\n",
        "optimizer = torch.optim.SGD(model.parameters(), lr=0.001, momentum=0.9)\n",
        "\n",
        "# train the model\n",
        "epochs = 60\n",
        "train_loss = []\n",
        "\n",
        "for epoch in range(epochs):\n",
        "    epoch_loss = []\n",
        "\n",
        "    model.train()\n",
        "\n",
        "    for batch_idx, (data, target) in enumerate(train_dataloader):\n",
        "        optimizer.zero_grad()\n",
        "\n",
        "        # forward + backward + optimize\n",
        "        output_lead_1, output_lead_2, output_lead_3 = model(data)\n",
        "        loss = (\n",
        "            loss_fn(output_lead_1, target[:, 0])\n",
        "            + loss_fn(output_lead_2, target[:, 1])\n",
        "            + loss_fn(output_lead_3, target[:, 2])\n",
        "        )\n",
        "\n",
        "        epoch_loss.append(loss.item() * data.size(0))\n",
        "\n",
        "        loss.backward()\n",
        "        optimizer.step()\n",
        "\n",
        "        # print statistics\n",
        "        if batch_idx % 400 == 0:\n",
        "            print(f\"Epoch: {epoch}, Batch: {batch_idx}, Loss: {loss.item()}\")\n",
        "    train_loss.append(sum(epoch_loss) / len(train_dataset))"
      ]
    },
    {
      "cell_type": "markdown",
      "metadata": {},
      "source": [
        "The training loss should decrease during the first few epochs, indicating that the model is improving. If it doesn’t, try decreasing the learning rate. If that doesn’t help, then you have a bug or the model is not appropriate for your problem.\n"
      ]
    },
    {
      "cell_type": "code",
      "execution_count": 32,
      "metadata": {
        "id": "gBsPbDL66Yct"
      },
      "outputs": [
        {
          "data": {
            "image/png": "[encoded data removed]",
            "text/plain": [
              "<Figure size 640x480 with 1 Axes>"
            ]
          },
          "metadata": {},
          "output_type": "display_data"
        }
      ],
      "source": [
        "# plot the training loss\n",
        "plt.plot(train_loss)\n",
        "plt.title(\"Training Loss\")\n",
        "plt.xlabel(\"Epoch\")\n",
        "plt.ylabel(\"Loss\")\n",
        "plt.show()"
      ]
    },
    {
      "cell_type": "markdown",
      "metadata": {
        "id": "EPNdAxPP6Yct"
      },
      "source": [
        "## Evaluating the Model\n",
        "\n",
        "Now we can evaluate the model on the test set. We first set the model to evaluation mode, then we iterate through the test set and make predictions. We then compare the predictions to the ground truth labels and compute the accuracy.\n"
      ]
    },
    {
      "cell_type": "code",
      "execution_count": 33,
      "metadata": {
        "id": "uxGjpYiG6Ycu"
      },
      "outputs": [
        {
          "name": "stdout",
          "output_type": "stream",
          "text": [
            "Accuracy Lead 1: 70.52%\n",
            "Accuracy Lead 2: 66.09%\n",
            "Accuracy Lead 3: 61.18%\n"
          ]
        }
      ],
      "source": [
        "model.eval()\n",
        "\n",
        "# test the accuracy per lead\n",
        "\n",
        "correct_lead_1 = 0\n",
        "correct_lead_2 = 0\n",
        "correct_lead_3 = 0\n",
        "\n",
        "with torch.no_grad():\n",
        "    for data, target in test_dataloader:\n",
        "        output_lead_1, output_lead_2, output_lead_3 = model(data)\n",
        "\n",
        "        _, predicted_lead_1 = torch.max(output_lead_1.data, 1)\n",
        "        _, predicted_lead_2 = torch.max(output_lead_2.data, 1)\n",
        "        _, predicted_lead_3 = torch.max(output_lead_3.data, 1)\n",
        "\n",
        "        _, target_lead_1 = torch.max(target[:, 0], 1)\n",
        "        _, target_lead_2 = torch.max(target[:, 1], 1)\n",
        "        _, target_lead_3 = torch.max(target[:, 2], 1)\n",
        "\n",
        "        correct_lead_1 += (predicted_lead_1 == target_lead_1).sum().item()\n",
        "        correct_lead_2 += (predicted_lead_2 == target_lead_2).sum().item()\n",
        "        correct_lead_3 += (predicted_lead_3 == target_lead_3).sum().item()\n",
        "\n",
        "# print the accuracy per lead in %\n",
        "print(f\"Accuracy Lead 1: {100 * correct_lead_1 / len(test_dataset):.2f}%\")\n",
        "print(f\"Accuracy Lead 2: {100 * correct_lead_2 / len(test_dataset):.2f}%\")\n",
        "print(f\"Accuracy Lead 3: {100 * correct_lead_3 / len(test_dataset):.2f}%\")"
      ]
    },
    {
      "cell_type": "markdown",
      "metadata": {
        "id": "1Q-ExMCN6Ycu"
      },
      "source": [
        "## Forecast with December 2023\n",
        "\n",
        "We can now use the model to make a forecast. We will use the December 2023 data as input to the model and see what the model predicts for the next 3 months. You can download the data from this link\n",
        "\n"
      ]
    },
    {
      "cell_type": "code",
      "execution_count": 34,
      "metadata": {
        "id": "x3UkztyK6Ycu"
      },
      "outputs": [
        {
          "data": {
            "text/html": [
              "<div><svg style=\"position: absolute; width: 0; height: 0; overflow: hidden\">\n",
              "<defs>\n",
              "<symbol id=\"icon-database\" viewBox=\"0 0 32 32\">\n",
              "<path d=\"M16 0c-8.837 0-16 2.239-16 5v4c0 2.761 7.163 5 16 5s16-2.239 16-5v-4c0-2.761-7.163-5-16-5z\"></path>\n",
              "<path d=\"M16 17c-8.837 0-16-2.239-16-5v6c0 2.761 7.163 5 16 5s16-2.239 16-5v-6c0 2.761-7.163 5-16 5z\"></path>\n",
              "<path d=\"M16 26c-8.837 0-16-2.239-16-5v6c0 2.761 7.163 5 16 5s16-2.239 16-5v-6c0 2.761-7.163 5-16 5z\"></path>\n",
              "</symbol>\n",
              "<symbol id=\"icon-file-text2\" viewBox=\"0 0 32 32\">\n",
              "<path d=\"M28.681 7.159c-0.694-0.947-1.662-2.053-2.724-3.116s-2.169-2.030-3.116-2.724c-1.612-1.182-2.393-1.319-2.841-1.319h-15.5c-1.378 0-2.5 1.121-2.5 2.5v27c0 1.378 1.122 2.5 2.5 2.5h23c1.378 0 2.5-1.122 2.5-2.5v-19.5c0-0.448-0.137-1.23-1.319-2.841zM24.543 5.457c0.959 0.959 1.712 1.825 2.268 2.543h-4.811v-4.811c0.718 0.556 1.584 1.309 2.543 2.268zM28 29.5c0 0.271-0.229 0.5-0.5 0.5h-23c-0.271 0-0.5-0.229-0.5-0.5v-27c0-0.271 0.229-0.5 0.5-0.5 0 0 15.499-0 15.5 0v7c0 0.552 0.448 1 1 1h7v19.5z\"></path>\n",
              "<path d=\"M23 26h-14c-0.552 0-1-0.448-1-1s0.448-1 1-1h14c0.552 0 1 0.448 1 1s-0.448 1-1 1z\"></path>\n",
              "<path d=\"M23 22h-14c-0.552 0-1-0.448-1-1s0.448-1 1-1h14c0.552 0 1 0.448 1 1s-0.448 1-1 1z\"></path>\n",
              "<path d=\"M23 18h-14c-0.552 0-1-0.448-1-1s0.448-1 1-1h14c0.552 0 1 0.448 1 1s-0.448 1-1 1z\"></path>\n",
              "</symbol>\n",
              "</defs>\n",
              "</svg>\n",
              "<style>/* CSS stylesheet for displaying xarray objects in jupyterlab.\n",
              " *\n",
              " */\n",
              "\n",
              ":root {\n",
              "  --xr-font-color0: var(--jp-content-font-color0, rgba(0, 0, 0, 1));\n",
              "  --xr-font-color2: var(--jp-content-font-color2, rgba(0, 0, 0, 0.54));\n",
              "  --xr-font-color3: var(--jp-content-font-color3, rgba(0, 0, 0, 0.38));\n",
              "  --xr-border-color: var(--jp-border-color2, #e0e0e0);\n",
              "  --xr-disabled-color: var(--jp-layout-color3, #bdbdbd);\n",
              "  --xr-background-color: var(--jp-layout-color0, white);\n",
              "  --xr-background-color-row-even: var(--jp-layout-color1, white);\n",
              "  --xr-background-color-row-odd: var(--jp-layout-color2, #eeeeee);\n",
              "}\n",
              "\n",
              "html[theme=\"dark\"],\n",
              "html[data-theme=\"dark\"],\n",
              "body[data-theme=\"dark\"],\n",
              "body.vscode-dark {\n",
              "  --xr-font-color0: rgba(255, 255, 255, 1);\n",
              "  --xr-font-color2: rgba(255, 255, 255, 0.54);\n",
              "  --xr-font-color3: rgba(255, 255, 255, 0.38);\n",
              "  --xr-border-color: #1f1f1f;\n",
              "  --xr-disabled-color: #515151;\n",
              "  --xr-background-color: #111111;\n",
              "  --xr-background-color-row-even: #111111;\n",
              "  --xr-background-color-row-odd: #313131;\n",
              "}\n",
              "\n",
              ".xr-wrap {\n",
              "  display: block !important;\n",
              "  min-width: 300px;\n",
              "  max-width: 700px;\n",
              "}\n",
              "\n",
              ".xr-text-repr-fallback {\n",
              "  /* fallback to plain text repr when CSS is not injected (untrusted notebook) */\n",
              "  display: none;\n",
              "}\n",
              "\n",
              ".xr-header {\n",
              "  padding-top: 6px;\n",
              "  padding-bottom: 6px;\n",
              "  margin-bottom: 4px;\n",
              "  border-bottom: solid 1px var(--xr-border-color);\n",
              "}\n",
              "\n",
              ".xr-header > div,\n",
              ".xr-header > ul {\n",
              "  display: inline;\n",
              "  margin-top: 0;\n",
              "  margin-bottom: 0;\n",
              "}\n",
              "\n",
              ".xr-obj-type,\n",
              ".xr-array-name {\n",
              "  margin-left: 2px;\n",
              "  margin-right: 10px;\n",
              "}\n",
              "\n",
              ".xr-obj-type {\n",
              "  color: var(--xr-font-color2);\n",
              "}\n",
              "\n",
              ".xr-sections {\n",
              "  padding-left: 0 !important;\n",
              "  display: grid;\n",
              "  grid-template-columns: 150px auto auto 1fr 0 20px 0 20px;\n",
              "}\n",
              "\n",
              ".xr-section-item {\n",
              "  display: contents;\n",
              "}\n",
              "\n",
              ".xr-section-item input {\n",
              "  display: inline-block;\n",
              "  opacity: 0;\n",
              "  height: 0;\n",
              "}\n",
              "\n",
              ".xr-section-item input + label {\n",
              "  color: var(--xr-disabled-color);\n",
              "}\n",
              "\n",
              ".xr-section-item input:enabled + label {\n",
              "  cursor: pointer;\n",
              "  color: var(--xr-font-color2);\n",
              "}\n",
              "\n",
              ".xr-section-item input:focus + label {\n",
              "  border: 2px solid var(--xr-font-color0);\n",
              "}\n",
              "\n",
              ".xr-section-item input:enabled + label:hover {\n",
              "  color: var(--xr-font-color0);\n",
              "}\n",
              "\n",
              ".xr-section-summary {\n",
              "  grid-column: 1;\n",
              "  color: var(--xr-font-color2);\n",
              "  font-weight: 500;\n",
              "}\n",
              "\n",
              ".xr-section-summary > span {\n",
              "  display: inline-block;\n",
              "  padding-left: 0.5em;\n",
              "}\n",
              "\n",
              ".xr-section-summary-in:disabled + label {\n",
              "  color: var(--xr-font-color2);\n",
              "}\n",
              "\n",
              ".xr-section-summary-in + label:before {\n",
              "  display: inline-block;\n",
              "  content: \"►\";\n",
              "  font-size: 11px;\n",
              "  width: 15px;\n",
              "  text-align: center;\n",
              "}\n",
              "\n",
              ".xr-section-summary-in:disabled + label:before {\n",
              "  color: var(--xr-disabled-color);\n",
              "}\n",
              "\n",
              ".xr-section-summary-in:checked + label:before {\n",
              "  content: \"▼\";\n",
              "}\n",
              "\n",
              ".xr-section-summary-in:checked + label > span {\n",
              "  display: none;\n",
              "}\n",
              "\n",
              ".xr-section-summary,\n",
              ".xr-section-inline-details {\n",
              "  padding-top: 4px;\n",
              "  padding-bottom: 4px;\n",
              "}\n",
              "\n",
              ".xr-section-inline-details {\n",
              "  grid-column: 2 / -1;\n",
              "}\n",
              "\n",
              ".xr-section-details {\n",
              "  display: none;\n",
              "  grid-column: 1 / -1;\n",
              "  margin-bottom: 5px;\n",
              "}\n",
              "\n",
              ".xr-section-summary-in:checked ~ .xr-section-details {\n",
              "  display: contents;\n",
              "}\n",
              "\n",
              ".xr-array-wrap {\n",
              "  grid-column: 1 / -1;\n",
              "  display: grid;\n",
              "  grid-template-columns: 20px auto;\n",
              "}\n",
              "\n",
              ".xr-array-wrap > label {\n",
              "  grid-column: 1;\n",
              "  vertical-align: top;\n",
              "}\n",
              "\n",
              ".xr-preview {\n",
              "  color: var(--xr-font-color3);\n",
              "}\n",
              "\n",
              ".xr-array-preview,\n",
              ".xr-array-data {\n",
              "  padding: 0 5px !important;\n",
              "  grid-column: 2;\n",
              "}\n",
              "\n",
              ".xr-array-data,\n",
              ".xr-array-in:checked ~ .xr-array-preview {\n",
              "  display: none;\n",
              "}\n",
              "\n",
              ".xr-array-in:checked ~ .xr-array-data,\n",
              ".xr-array-preview {\n",
              "  display: inline-block;\n",
              "}\n",
              "\n",
              ".xr-dim-list {\n",
              "  display: inline-block !important;\n",
              "  list-style: none;\n",
              "  padding: 0 !important;\n",
              "  margin: 0;\n",
              "}\n",
              "\n",
              ".xr-dim-list li {\n",
              "  display: inline-block;\n",
              "  padding: 0;\n",
              "  margin: 0;\n",
              "}\n",
              "\n",
              ".xr-dim-list:before {\n",
              "  content: \"(\";\n",
              "}\n",
              "\n",
              ".xr-dim-list:after {\n",
              "  content: \")\";\n",
              "}\n",
              "\n",
              ".xr-dim-list li:not(:last-child):after {\n",
              "  content: \",\";\n",
              "  padding-right: 5px;\n",
              "}\n",
              "\n",
              ".xr-has-index {\n",
              "  font-weight: bold;\n",
              "}\n",
              "\n",
              ".xr-var-list,\n",
              ".xr-var-item {\n",
              "  display: contents;\n",
              "}\n",
              "\n",
              ".xr-var-item > div,\n",
              ".xr-var-item label,\n",
              ".xr-var-item > .xr-var-name span {\n",
              "  background-color: var(--xr-background-color-row-even);\n",
              "  margin-bottom: 0;\n",
              "}\n",
              "\n",
              ".xr-var-item > .xr-var-name:hover span {\n",
              "  padding-right: 5px;\n",
              "}\n",
              "\n",
              ".xr-var-list > li:nth-child(odd) > div,\n",
              ".xr-var-list > li:nth-child(odd) > label,\n",
              ".xr-var-list > li:nth-child(odd) > .xr-var-name span {\n",
              "  background-color: var(--xr-background-color-row-odd);\n",
              "}\n",
              "\n",
              ".xr-var-name {\n",
              "  grid-column: 1;\n",
              "}\n",
              "\n",
              ".xr-var-dims {\n",
              "  grid-column: 2;\n",
              "}\n",
              "\n",
              ".xr-var-dtype {\n",
              "  grid-column: 3;\n",
              "  text-align: right;\n",
              "  color: var(--xr-font-color2);\n",
              "}\n",
              "\n",
              ".xr-var-preview {\n",
              "  grid-column: 4;\n",
              "}\n",
              "\n",
              ".xr-index-preview {\n",
              "  grid-column: 2 / 5;\n",
              "  color: var(--xr-font-color2);\n",
              "}\n",
              "\n",
              ".xr-var-name,\n",
              ".xr-var-dims,\n",
              ".xr-var-dtype,\n",
              ".xr-preview,\n",
              ".xr-attrs dt {\n",
              "  white-space: nowrap;\n",
              "  overflow: hidden;\n",
              "  text-overflow: ellipsis;\n",
              "  padding-right: 10px;\n",
              "}\n",
              "\n",
              ".xr-var-name:hover,\n",
              ".xr-var-dims:hover,\n",
              ".xr-var-dtype:hover,\n",
              ".xr-attrs dt:hover {\n",
              "  overflow: visible;\n",
              "  width: auto;\n",
              "  z-index: 1;\n",
              "}\n",
              "\n",
              ".xr-var-attrs,\n",
              ".xr-var-data,\n",
              ".xr-index-data {\n",
              "  display: none;\n",
              "  background-color: var(--xr-background-color) !important;\n",
              "  padding-bottom: 5px !important;\n",
              "}\n",
              "\n",
              ".xr-var-attrs-in:checked ~ .xr-var-attrs,\n",
              ".xr-var-data-in:checked ~ .xr-var-data,\n",
              ".xr-index-data-in:checked ~ .xr-index-data {\n",
              "  display: block;\n",
              "}\n",
              "\n",
              ".xr-var-data > table {\n",
              "  float: right;\n",
              "}\n",
              "\n",
              ".xr-var-name span,\n",
              ".xr-var-data,\n",
              ".xr-index-name div,\n",
              ".xr-index-data,\n",
              ".xr-attrs {\n",
              "  padding-left: 25px !important;\n",
              "}\n",
              "\n",
              ".xr-attrs,\n",
              ".xr-var-attrs,\n",
              ".xr-var-data,\n",
              ".xr-index-data {\n",
              "  grid-column: 1 / -1;\n",
              "}\n",
              "\n",
              "dl.xr-attrs {\n",
              "  padding: 0;\n",
              "  margin: 0;\n",
              "  display: grid;\n",
              "  grid-template-columns: 125px auto;\n",
              "}\n",
              "\n",
              ".xr-attrs dt,\n",
              ".xr-attrs dd {\n",
              "  padding: 0;\n",
              "  margin: 0;\n",
              "  float: left;\n",
              "  padding-right: 10px;\n",
              "  width: auto;\n",
              "}\n",
              "\n",
              ".xr-attrs dt {\n",
              "  font-weight: normal;\n",
              "  grid-column: 1;\n",
              "}\n",
              "\n",
              ".xr-attrs dt:hover span {\n",
              "  display: inline-block;\n",
              "  background: var(--xr-background-color);\n",
              "  padding-right: 10px;\n",
              "}\n",
              "\n",
              ".xr-attrs dd {\n",
              "  grid-column: 2;\n",
              "  white-space: pre-wrap;\n",
              "  word-break: break-all;\n",
              "}\n",
              "\n",
              ".xr-icon-database,\n",
              ".xr-icon-file-text2,\n",
              ".xr-no-icon {\n",
              "  display: inline-block;\n",
              "  vertical-align: middle;\n",
              "  width: 1em;\n",
              "  height: 1.5em !important;\n",
              "  stroke-width: 0;\n",
              "  stroke: currentColor;\n",
              "  fill: currentColor;\n",
              "}\n",
              "</style><pre class='xr-text-repr-fallback'>&lt;xarray.DataArray &#x27;ssta&#x27; (lat: 41, lon: 86)&gt; Size: 14kB\n",
              "[3526 values with dtype=float32]\n",
              "Coordinates:\n",
              "  * lat      (lat) float32 164B -40.0 -38.0 -36.0 -34.0 ... 34.0 36.0 38.0 40.0\n",
              "  * lon      (lon) float32 344B 120.0 122.0 124.0 126.0 ... 286.0 288.0 290.0</pre><div class='xr-wrap' style='display:none'><div class='xr-header'><div class='xr-obj-type'>xarray.DataArray</div><div class='xr-array-name'>'ssta'</div><ul class='xr-dim-list'><li><span class='xr-has-index'>lat</span>: 41</li><li><span class='xr-has-index'>lon</span>: 86</li></ul></div><ul class='xr-sections'><li class='xr-section-item'><div class='xr-array-wrap'><input id='section-bd683609-22d5-4737-92f6-8b05f6e42b5d' class='xr-array-in' type='checkbox' checked><label for='section-bd683609-22d5-4737-92f6-8b05f6e42b5d' title='Show/hide data repr'><svg class='icon xr-icon-database'><use xlink:href='#icon-database'></use></svg></label><div class='xr-array-preview xr-preview'><span>...</span></div><div class='xr-array-data'><pre>[3526 values with dtype=float32]</pre></div></div></li><li class='xr-section-item'><input id='section-c228ac30-9838-456f-b5d5-a5fba2847d7d' class='xr-section-summary-in' type='checkbox'  checked><label for='section-c228ac30-9838-456f-b5d5-a5fba2847d7d' class='xr-section-summary' >Coordinates: <span>(2)</span></label><div class='xr-section-inline-details'></div><div class='xr-section-details'><ul class='xr-var-list'><li class='xr-var-item'><div class='xr-var-name'><span class='xr-has-index'>lat</span></div><div class='xr-var-dims'>(lat)</div><div class='xr-var-dtype'>float32</div><div class='xr-var-preview xr-preview'>-40.0 -38.0 -36.0 ... 38.0 40.0</div><input id='attrs-707f123d-2a18-4915-a8f9-bc4eefe6b0da' class='xr-var-attrs-in' type='checkbox' ><label for='attrs-707f123d-2a18-4915-a8f9-bc4eefe6b0da' title='Show/Hide attributes'><svg class='icon xr-icon-file-text2'><use xlink:href='#icon-file-text2'></use></svg></label><input id='data-b99cd193-0adb-464e-a475-8a94f78bf4d7' class='xr-var-data-in' type='checkbox'><label for='data-b99cd193-0adb-464e-a475-8a94f78bf4d7' title='Show/Hide data repr'><svg class='icon xr-icon-database'><use xlink:href='#icon-database'></use></svg></label><div class='xr-var-attrs'><dl class='xr-attrs'><dt><span>units :</span></dt><dd>degrees_north</dd><dt><span>long_name :</span></dt><dd>Latitude</dd><dt><span>actual_range :</span></dt><dd>[ 88. -88.]</dd><dt><span>standard_name :</span></dt><dd>latitude</dd><dt><span>axis :</span></dt><dd>Y</dd><dt><span>coordinate_defines :</span></dt><dd>center</dd></dl></div><div class='xr-var-data'><pre>array([-40., -38., -36., -34., -32., -30., -28., -26., -24., -22., -20., -18.,\n",
              "       -16., -14., -12., -10.,  -8.,  -6.,  -4.,  -2.,   0.,   2.,   4.,   6.,\n",
              "         8.,  10.,  12.,  14.,  16.,  18.,  20.,  22.,  24.,  26.,  28.,  30.,\n",
              "        32.,  34.,  36.,  38.,  40.], dtype=float32)</pre></div></li><li class='xr-var-item'><div class='xr-var-name'><span class='xr-has-index'>lon</span></div><div class='xr-var-dims'>(lon)</div><div class='xr-var-dtype'>float32</div><div class='xr-var-preview xr-preview'>120.0 122.0 124.0 ... 288.0 290.0</div><input id='attrs-22a74f80-6ace-47ca-93db-f02d3e443bd1' class='xr-var-attrs-in' type='checkbox' ><label for='attrs-22a74f80-6ace-47ca-93db-f02d3e443bd1' title='Show/Hide attributes'><svg class='icon xr-icon-file-text2'><use xlink:href='#icon-file-text2'></use></svg></label><input id='data-9624b5ff-fa51-4103-af3a-6e207c83db4c' class='xr-var-data-in' type='checkbox'><label for='data-9624b5ff-fa51-4103-af3a-6e207c83db4c' title='Show/Hide data repr'><svg class='icon xr-icon-database'><use xlink:href='#icon-database'></use></svg></label><div class='xr-var-attrs'><dl class='xr-attrs'><dt><span>units :</span></dt><dd>degrees_east</dd><dt><span>long_name :</span></dt><dd>Longitude</dd><dt><span>actual_range :</span></dt><dd>[  0. 358.]</dd><dt><span>standard_name :</span></dt><dd>longitude</dd><dt><span>axis :</span></dt><dd>X</dd><dt><span>coordinate_defines :</span></dt><dd>center</dd></dl></div><div class='xr-var-data'><pre>array([120., 122., 124., 126., 128., 130., 132., 134., 136., 138., 140., 142.,\n",
              "       144., 146., 148., 150., 152., 154., 156., 158., 160., 162., 164., 166.,\n",
              "       168., 170., 172., 174., 176., 178., 180., 182., 184., 186., 188., 190.,\n",
              "       192., 194., 196., 198., 200., 202., 204., 206., 208., 210., 212., 214.,\n",
              "       216., 218., 220., 222., 224., 226., 228., 230., 232., 234., 236., 238.,\n",
              "       240., 242., 244., 246., 248., 250., 252., 254., 256., 258., 260., 262.,\n",
              "       264., 266., 268., 270., 272., 274., 276., 278., 280., 282., 284., 286.,\n",
              "       288., 290.], dtype=float32)</pre></div></li></ul></div></li><li class='xr-section-item'><input id='section-436740ee-b26a-4b3d-8af4-2ecbdd624e6c' class='xr-section-summary-in' type='checkbox'  ><label for='section-436740ee-b26a-4b3d-8af4-2ecbdd624e6c' class='xr-section-summary' >Indexes: <span>(2)</span></label><div class='xr-section-inline-details'></div><div class='xr-section-details'><ul class='xr-var-list'><li class='xr-var-item'><div class='xr-index-name'><div>lat</div></div><div class='xr-index-preview'>PandasIndex</div><input type='checkbox' disabled/><label></label><input id='index-3a0c6810-6900-4da9-90ff-49da74fbcf3b' class='xr-index-data-in' type='checkbox'/><label for='index-3a0c6810-6900-4da9-90ff-49da74fbcf3b' title='Show/Hide index repr'><svg class='icon xr-icon-database'><use xlink:href='#icon-database'></use></svg></label><div class='xr-index-data'><pre>PandasIndex(Index([-40.0, -38.0, -36.0, -34.0, -32.0, -30.0, -28.0, -26.0, -24.0, -22.0,\n",
              "       -20.0, -18.0, -16.0, -14.0, -12.0, -10.0,  -8.0,  -6.0,  -4.0,  -2.0,\n",
              "         0.0,   2.0,   4.0,   6.0,   8.0,  10.0,  12.0,  14.0,  16.0,  18.0,\n",
              "        20.0,  22.0,  24.0,  26.0,  28.0,  30.0,  32.0,  34.0,  36.0,  38.0,\n",
              "        40.0],\n",
              "      dtype=&#x27;float32&#x27;, name=&#x27;lat&#x27;))</pre></div></li><li class='xr-var-item'><div class='xr-index-name'><div>lon</div></div><div class='xr-index-preview'>PandasIndex</div><input type='checkbox' disabled/><label></label><input id='index-06c4037e-2a40-47bc-beba-83fcf31a8fa8' class='xr-index-data-in' type='checkbox'/><label for='index-06c4037e-2a40-47bc-beba-83fcf31a8fa8' title='Show/Hide index repr'><svg class='icon xr-icon-database'><use xlink:href='#icon-database'></use></svg></label><div class='xr-index-data'><pre>PandasIndex(Index([120.0, 122.0, 124.0, 126.0, 128.0, 130.0, 132.0, 134.0, 136.0, 138.0,\n",
              "       140.0, 142.0, 144.0, 146.0, 148.0, 150.0, 152.0, 154.0, 156.0, 158.0,\n",
              "       160.0, 162.0, 164.0, 166.0, 168.0, 170.0, 172.0, 174.0, 176.0, 178.0,\n",
              "       180.0, 182.0, 184.0, 186.0, 188.0, 190.0, 192.0, 194.0, 196.0, 198.0,\n",
              "       200.0, 202.0, 204.0, 206.0, 208.0, 210.0, 212.0, 214.0, 216.0, 218.0,\n",
              "       220.0, 222.0, 224.0, 226.0, 228.0, 230.0, 232.0, 234.0, 236.0, 238.0,\n",
              "       240.0, 242.0, 244.0, 246.0, 248.0, 250.0, 252.0, 254.0, 256.0, 258.0,\n",
              "       260.0, 262.0, 264.0, 266.0, 268.0, 270.0, 272.0, 274.0, 276.0, 278.0,\n",
              "       280.0, 282.0, 284.0, 286.0, 288.0, 290.0],\n",
              "      dtype=&#x27;float32&#x27;, name=&#x27;lon&#x27;))</pre></div></li></ul></div></li><li class='xr-section-item'><input id='section-f8d7015b-5d01-483c-8158-05c7afe6a315' class='xr-section-summary-in' type='checkbox' disabled ><label for='section-f8d7015b-5d01-483c-8158-05c7afe6a315' class='xr-section-summary'  title='Expand/collapse section'>Attributes: <span>(0)</span></label><div class='xr-section-inline-details'></div><div class='xr-section-details'><dl class='xr-attrs'></dl></div></li></ul></div></div>"
            ],
            "text/plain": [
              "<xarray.DataArray 'ssta' (lat: 41, lon: 86)> Size: 14kB\n",
              "[3526 values with dtype=float32]\n",
              "Coordinates:\n",
              "  * lat      (lat) float32 164B -40.0 -38.0 -36.0 -34.0 ... 34.0 36.0 38.0 40.0\n",
              "  * lon      (lon) float32 344B 120.0 122.0 124.0 126.0 ... 286.0 288.0 290.0"
            ]
          },
          "execution_count": 34,
          "metadata": {},
          "output_type": "execute_result"
        }
      ],
      "source": [
        "dec2023 = xr.open_dataset(\"data/ersst_anom_dec2023.nc\").ssta\n",
        "dec2023"
      ]
    },
    {
      "cell_type": "code",
      "execution_count": 35,
      "metadata": {
        "id": "gzmEKWE36Ycu"
      },
      "outputs": [],
      "source": [
        "# evaluate the model on the dec2023 data\n",
        "model.eval()\n",
        "\n",
        "pred_input = torch.from_numpy(\n",
        "    dec2023.expand_dims(\"channel\")\n",
        "    .transpose(\"channel\", \"lat\", \"lon\")\n",
        "    .fillna(0)\n",
        "    .data.copy()\n",
        ")\n",
        "\n",
        "with torch.no_grad():\n",
        "    model_output = model(pred_input.unsqueeze(0))"
      ]
    },
    {
      "cell_type": "code",
      "execution_count": 36,
      "metadata": {
        "id": "nLmd4aly6Ycu"
      },
      "outputs": [
        {
          "name": "stdout",
          "output_type": "stream",
          "text": [
            "0: Neutral, 1: El Nino, 2: La Nina\n",
            "Prediction for January 2024: 0\n",
            "Prediction for February 2024: 0\n",
            "Prediction for March 2024: 0\n"
          ]
        }
      ],
      "source": [
        "print(\"0: Neutral, 1: El Nino, 2: La Nina\")\n",
        "print(f\"Prediction for January 2024: {model_output[0].argmax()}\")\n",
        "print(f\"Prediction for February 2024: {model_output[1].argmax()}\")\n",
        "print(f\"Prediction for March 2024: {model_output[2].argmax()}\")"
      ]
    },
    {
      "cell_type": "markdown",
      "metadata": {},
      "source": [
        "## Improving the model \n",
        "\n",
        "If we want to improve the model, the first thing to ask ourselves is whether we are **underfitting** or **overfitting**. If we are not overfitting, then we are underfitting and we should increase the size of the model and train longer. If we are overfitting, then we should add regularization or get more training data."
      ]
    }
  ],
  "metadata": {
    "colab": {
      "provenance": []
    },
    "kernelspec": {
      "display_name": "dev",
      "language": "python",
      "name": "python3"
    },
    "language_info": {
      "codemirror_mode": {
        "name": "ipython",
        "version": 3
      },
      "file_extension": ".py",
      "mimetype": "text/x-python",
      "name": "python",
      "nbconvert_exporter": "python",
      "pygments_lexer": "ipython3",
      "version": "3.11.11"
    }
  },
  "nbformat": 4,
  "nbformat_minor": 0
}
